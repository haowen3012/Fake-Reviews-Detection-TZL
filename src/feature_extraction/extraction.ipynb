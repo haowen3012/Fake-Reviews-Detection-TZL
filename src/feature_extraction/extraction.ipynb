{
 "cells": [
  {
   "cell_type": "code",
   "execution_count": 9,
   "id": "initial_id",
   "metadata": {
    "collapsed": true,
    "ExecuteTime": {
     "end_time": "2024-10-07T09:50:56.203526Z",
     "start_time": "2024-10-07T09:50:56.196735Z"
    }
   },
   "outputs": [],
   "source": [
    "import numpy as np\n",
    "import pandas as pd\n",
    "import seaborn as sns\n",
    "import matplotlib.pyplot as plt\n",
    "import warnings, string\n",
    "warnings.filterwarnings('ignore')\n",
    "from sklearn.model_selection import train_test_split, GridSearchCV\n",
    "import nltk\n",
    "from nltk.corpus import stopwords\n",
    "from sklearn.feature_extraction.text import CountVectorizer, TfidfTransformer\n",
    "from sklearn.feature_extraction.text import TfidfVectorizer"
   ]
  },
  {
   "cell_type": "code",
   "outputs": [
    {
     "data": {
      "text/plain": "   Unnamed: 0            category  rating label  \\\n0           0  Home_and_Kitchen_5     5.0    CG   \n1           1  Home_and_Kitchen_5     5.0    CG   \n2           2  Home_and_Kitchen_5     5.0    CG   \n3           3  Home_and_Kitchen_5     1.0    CG   \n4           4  Home_and_Kitchen_5     5.0    CG   \n\n                                              text_  \n0  love well made sturdi comfort i love veri pretti  \n1    love great upgrad origin i 've mine coupl year  \n2      thi pillow save back i love look feel pillow  \n3             miss inform use great product price i  \n4       veri nice set good qualiti we set two month  ",
      "text/html": "<div>\n<style scoped>\n    .dataframe tbody tr th:only-of-type {\n        vertical-align: middle;\n    }\n\n    .dataframe tbody tr th {\n        vertical-align: top;\n    }\n\n    .dataframe thead th {\n        text-align: right;\n    }\n</style>\n<table border=\"1\" class=\"dataframe\">\n  <thead>\n    <tr style=\"text-align: right;\">\n      <th></th>\n      <th>Unnamed: 0</th>\n      <th>category</th>\n      <th>rating</th>\n      <th>label</th>\n      <th>text_</th>\n    </tr>\n  </thead>\n  <tbody>\n    <tr>\n      <th>0</th>\n      <td>0</td>\n      <td>Home_and_Kitchen_5</td>\n      <td>5.0</td>\n      <td>CG</td>\n      <td>love well made sturdi comfort i love veri pretti</td>\n    </tr>\n    <tr>\n      <th>1</th>\n      <td>1</td>\n      <td>Home_and_Kitchen_5</td>\n      <td>5.0</td>\n      <td>CG</td>\n      <td>love great upgrad origin i 've mine coupl year</td>\n    </tr>\n    <tr>\n      <th>2</th>\n      <td>2</td>\n      <td>Home_and_Kitchen_5</td>\n      <td>5.0</td>\n      <td>CG</td>\n      <td>thi pillow save back i love look feel pillow</td>\n    </tr>\n    <tr>\n      <th>3</th>\n      <td>3</td>\n      <td>Home_and_Kitchen_5</td>\n      <td>1.0</td>\n      <td>CG</td>\n      <td>miss inform use great product price i</td>\n    </tr>\n    <tr>\n      <th>4</th>\n      <td>4</td>\n      <td>Home_and_Kitchen_5</td>\n      <td>5.0</td>\n      <td>CG</td>\n      <td>veri nice set good qualiti we set two month</td>\n    </tr>\n  </tbody>\n</table>\n</div>"
     },
     "execution_count": 4,
     "metadata": {},
     "output_type": "execute_result"
    }
   ],
   "source": [
    "\n",
    "df = pd.read_csv('../../dataset/Preprocessed Dataset.csv')\n",
    "df.head()"
   ],
   "metadata": {
    "collapsed": false,
    "ExecuteTime": {
     "end_time": "2024-10-07T09:38:20.576467Z",
     "start_time": "2024-10-07T09:38:20.288057Z"
    }
   },
   "id": "437fafdaa1fc7419",
   "execution_count": 4
  },
  {
   "cell_type": "code",
   "outputs": [],
   "source": [
    "\n",
    "df.drop('Unnamed: 0',axis=1,inplace=True)"
   ],
   "metadata": {
    "collapsed": false,
    "ExecuteTime": {
     "end_time": "2024-10-07T09:38:42.771194Z",
     "start_time": "2024-10-07T09:38:42.760750Z"
    }
   },
   "id": "148bd0b8f405d9eb",
   "execution_count": 5
  },
  {
   "cell_type": "code",
   "outputs": [],
   "source": [
    "\n",
    "df.dropna(inplace=True)"
   ],
   "metadata": {
    "collapsed": false,
    "ExecuteTime": {
     "end_time": "2024-10-07T09:39:20.562989Z",
     "start_time": "2024-10-07T09:39:20.547692Z"
    }
   },
   "id": "ef048e7442651551",
   "execution_count": 7
  },
  {
   "cell_type": "code",
   "outputs": [
    {
     "data": {
      "text/plain": "        rating                                             \n         count      mean       std  min  25%  50%  75%  max\nlabel                                                      \nCG     20215.0  4.259906  1.141092  1.0  4.0  5.0  5.0  5.0\nOR     20216.0  4.253265  1.147652  1.0  4.0  5.0  5.0  5.0",
      "text/html": "<div>\n<style scoped>\n    .dataframe tbody tr th:only-of-type {\n        vertical-align: middle;\n    }\n\n    .dataframe tbody tr th {\n        vertical-align: top;\n    }\n\n    .dataframe thead tr th {\n        text-align: left;\n    }\n\n    .dataframe thead tr:last-of-type th {\n        text-align: right;\n    }\n</style>\n<table border=\"1\" class=\"dataframe\">\n  <thead>\n    <tr>\n      <th></th>\n      <th colspan=\"8\" halign=\"left\">rating</th>\n    </tr>\n    <tr>\n      <th></th>\n      <th>count</th>\n      <th>mean</th>\n      <th>std</th>\n      <th>min</th>\n      <th>25%</th>\n      <th>50%</th>\n      <th>75%</th>\n      <th>max</th>\n    </tr>\n    <tr>\n      <th>label</th>\n      <th></th>\n      <th></th>\n      <th></th>\n      <th></th>\n      <th></th>\n      <th></th>\n      <th></th>\n      <th></th>\n    </tr>\n  </thead>\n  <tbody>\n    <tr>\n      <th>CG</th>\n      <td>20215.0</td>\n      <td>4.259906</td>\n      <td>1.141092</td>\n      <td>1.0</td>\n      <td>4.0</td>\n      <td>5.0</td>\n      <td>5.0</td>\n      <td>5.0</td>\n    </tr>\n    <tr>\n      <th>OR</th>\n      <td>20216.0</td>\n      <td>4.253265</td>\n      <td>1.147652</td>\n      <td>1.0</td>\n      <td>4.0</td>\n      <td>5.0</td>\n      <td>5.0</td>\n      <td>5.0</td>\n    </tr>\n  </tbody>\n</table>\n</div>"
     },
     "execution_count": 8,
     "metadata": {},
     "output_type": "execute_result"
    }
   ],
   "source": [
    "df.groupby('label').describe()"
   ],
   "metadata": {
    "collapsed": false,
    "ExecuteTime": {
     "end_time": "2024-10-07T09:46:37.236937Z",
     "start_time": "2024-10-07T09:46:37.186428Z"
    }
   },
   "id": "36ee31e5e1fb8b7b",
   "execution_count": 8
  },
  {
   "cell_type": "markdown",
   "source": [],
   "metadata": {
    "collapsed": false
   },
   "id": "3a5baf63caa260e7"
  },
  {
   "cell_type": "markdown",
   "source": [
    "TF-IDF with n-grams"
   ],
   "metadata": {
    "collapsed": false
   },
   "id": "a8fcf65f4e620570"
  },
  {
   "cell_type": "code",
   "outputs": [
    {
     "data": {
      "text/plain": "(40431, 1572580)"
     },
     "execution_count": 14,
     "metadata": {},
     "output_type": "execute_result"
    }
   ],
   "source": [
    "# Initialize the TF-IDF vectorizer with n-grams\n",
    "tfidf_vectorizer = TfidfVectorizer(ngram_range=(1, 3))\n",
    "\n",
    "# Fit and transform the cleaned text data\n",
    "X_tfidf_ngrams = tfidf_vectorizer.fit_transform(df['text_'])\n"
   ],
   "metadata": {
    "collapsed": false,
    "ExecuteTime": {
     "end_time": "2024-10-07T09:52:01.023097Z",
     "start_time": "2024-10-07T09:51:52.488266Z"
    }
   },
   "id": "5dc131d72a76ecba",
   "execution_count": 14
  },
  {
   "cell_type": "code",
   "outputs": [
    {
     "data": {
      "text/plain": "(8087, 1572580)"
     },
     "execution_count": 24,
     "metadata": {},
     "output_type": "execute_result"
    }
   ],
   "source": [
    "X_tfidf_ngrams.shape\n",
    "# Convert the sparse matrix to a dense format\n",
    "X_train, X_test, y_train, y_test = train_test_split(X_tfidf_ngrams, df['label'], test_size=0.2, random_state=42)\n",
    "X_test.shape"
   ],
   "metadata": {
    "collapsed": false,
    "ExecuteTime": {
     "end_time": "2024-10-07T09:57:35.172228Z",
     "start_time": "2024-10-07T09:57:35.132297Z"
    }
   },
   "id": "b39d78af4ceaaa8a",
   "execution_count": 24
  },
  {
   "cell_type": "code",
   "outputs": [],
   "source": [
    "from sklearn.metrics import accuracy_score, classification_report\n",
    "from sklearn.linear_model import LogisticRegression\n",
    "\n",
    "# Initialize the logistic regression model\n",
    "model = LogisticRegression(max_iter=1000)\n",
    "\n",
    "# Train the model\n",
    "model.fit(X_train, y_train)\n",
    "\n",
    "# Make predictions on the test set\n",
    "y_pred = model.predict(X_test)\n",
    "\n",
    "# Evaluate the model\n",
    "accuracy = accuracy_score(y_test, y_pred)\n",
    "report = classification_report(y_test, y_pred)"
   ],
   "metadata": {
    "collapsed": false,
    "ExecuteTime": {
     "end_time": "2024-10-07T09:58:04.070258Z",
     "start_time": "2024-10-07T09:57:55.278920Z"
    }
   },
   "id": "428b8921b568b24d",
   "execution_count": 25
  },
  {
   "cell_type": "code",
   "outputs": [
    {
     "name": "stdout",
     "output_type": "stream",
     "text": [
      "Accuracy: 0.8913070359836776\n",
      "Classification Report:\n",
      "              precision    recall  f1-score   support\n",
      "\n",
      "          CG       0.94      0.83      0.88      4018\n",
      "          OR       0.85      0.95      0.90      4069\n",
      "\n",
      "    accuracy                           0.89      8087\n",
      "   macro avg       0.90      0.89      0.89      8087\n",
      "weighted avg       0.90      0.89      0.89      8087\n"
     ]
    }
   ],
   "source": [
    "print(f'Accuracy: {accuracy}')\n",
    "print('Classification Report:')\n",
    "print(report)"
   ],
   "metadata": {
    "collapsed": false,
    "ExecuteTime": {
     "end_time": "2024-10-07T09:58:22.354751Z",
     "start_time": "2024-10-07T09:58:22.348433Z"
    }
   },
   "id": "a0e944c167a8e627",
   "execution_count": 26
  },
  {
   "cell_type": "code",
   "outputs": [],
   "source": [],
   "metadata": {
    "collapsed": false
   },
   "id": "e1ea0b2c0c85e8f5"
  }
 ],
 "metadata": {
  "kernelspec": {
   "display_name": "Python 3",
   "language": "python",
   "name": "python3"
  },
  "language_info": {
   "codemirror_mode": {
    "name": "ipython",
    "version": 2
   },
   "file_extension": ".py",
   "mimetype": "text/x-python",
   "name": "python",
   "nbconvert_exporter": "python",
   "pygments_lexer": "ipython2",
   "version": "2.7.6"
  }
 },
 "nbformat": 4,
 "nbformat_minor": 5
}
