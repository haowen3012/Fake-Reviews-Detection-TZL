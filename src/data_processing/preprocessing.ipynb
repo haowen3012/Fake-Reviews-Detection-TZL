{
 "cells": [
  {
   "cell_type": "code",
   "execution_count": 17,
   "id": "initial_id",
   "metadata": {
    "collapsed": true,
    "ExecuteTime": {
     "end_time": "2024-10-05T15:03:11.568503Z",
     "start_time": "2024-10-05T15:03:11.565598Z"
    }
   },
   "outputs": [],
   "source": []
  },
  {
   "cell_type": "code",
   "outputs": [
    {
     "name": "stderr",
     "output_type": "stream",
     "text": [
      "[nltk_data] Downloading package wordnet to\n",
      "[nltk_data]     C:\\Users\\h.zheng\\AppData\\Roaming\\nltk_data...\n",
      "[nltk_data]   Package wordnet is already up-to-date!\n",
      "[nltk_data] Downloading package stopwords to\n",
      "[nltk_data]     C:\\Users\\h.zheng\\AppData\\Roaming\\nltk_data...\n",
      "[nltk_data]   Package stopwords is already up-to-date!\n",
      "[nltk_data] Downloading package omw-1.4 to\n",
      "[nltk_data]     C:\\Users\\h.zheng\\AppData\\Roaming\\nltk_data...\n",
      "[nltk_data]   Package omw-1.4 is already up-to-date!\n",
      "[nltk_data] Downloading package punkt_tab to\n",
      "[nltk_data]     C:\\Users\\h.zheng\\AppData\\Roaming\\nltk_data...\n",
      "[nltk_data]   Unzipping tokenizers\\punkt_tab.zip.\n"
     ]
    },
    {
     "data": {
      "text/plain": "True"
     },
     "execution_count": 31,
     "metadata": {},
     "output_type": "execute_result"
    }
   ],
   "source": [
    "import numpy as np\n",
    "import pandas as pd\n",
    "import seaborn as sns\n",
    "import matplotlib.pyplot as plt\n",
    "%matplotlib inline\n",
    "import warnings\n",
    "\n",
    "warnings.filterwarnings('ignore')\n",
    "from nltk.corpus import stopwords\n",
    "from sklearn.feature_extraction.text import TfidfTransformer, CountVectorizer\n",
    "from sklearn.metrics import classification_report, confusion_matrix\n",
    "from sklearn.model_selection import train_test_split\n",
    "import string, nltk\n",
    "from nltk import word_tokenize\n",
    "from nltk.stem import PorterStemmer\n",
    "from nltk.stem import WordNetLemmatizer\n",
    "\n",
    "nltk.download('wordnet')\n",
    "nltk.download('stopwords')\n",
    "nltk.download('omw-1.4')\n",
    "nltk.download('punkt_tab')"
   ],
   "metadata": {
    "collapsed": false,
    "ExecuteTime": {
     "end_time": "2024-10-05T15:32:35.064893Z",
     "start_time": "2024-10-05T15:32:30.833013Z"
    }
   },
   "id": "aaf43f13fc1400cf",
   "execution_count": 31
  },
  {
   "cell_type": "code",
   "outputs": [
    {
     "data": {
      "text/plain": "             category  rating label  \\\n0  Home_and_Kitchen_5     5.0    CG   \n1  Home_and_Kitchen_5     5.0    CG   \n2  Home_and_Kitchen_5     5.0    CG   \n3  Home_and_Kitchen_5     1.0    CG   \n4  Home_and_Kitchen_5     5.0    CG   \n\n                                               text_  \n0  Love this!  Well made, sturdy, and very comfor...  \n1  love it, a great upgrade from the original.  I...  \n2  This pillow saved my back. I love the look and...  \n3  Missing information on how to use it, but it i...  \n4  Very nice set. Good quality. We have had the s...  ",
      "text/html": "<div>\n<style scoped>\n    .dataframe tbody tr th:only-of-type {\n        vertical-align: middle;\n    }\n\n    .dataframe tbody tr th {\n        vertical-align: top;\n    }\n\n    .dataframe thead th {\n        text-align: right;\n    }\n</style>\n<table border=\"1\" class=\"dataframe\">\n  <thead>\n    <tr style=\"text-align: right;\">\n      <th></th>\n      <th>category</th>\n      <th>rating</th>\n      <th>label</th>\n      <th>text_</th>\n    </tr>\n  </thead>\n  <tbody>\n    <tr>\n      <th>0</th>\n      <td>Home_and_Kitchen_5</td>\n      <td>5.0</td>\n      <td>CG</td>\n      <td>Love this!  Well made, sturdy, and very comfor...</td>\n    </tr>\n    <tr>\n      <th>1</th>\n      <td>Home_and_Kitchen_5</td>\n      <td>5.0</td>\n      <td>CG</td>\n      <td>love it, a great upgrade from the original.  I...</td>\n    </tr>\n    <tr>\n      <th>2</th>\n      <td>Home_and_Kitchen_5</td>\n      <td>5.0</td>\n      <td>CG</td>\n      <td>This pillow saved my back. I love the look and...</td>\n    </tr>\n    <tr>\n      <th>3</th>\n      <td>Home_and_Kitchen_5</td>\n      <td>1.0</td>\n      <td>CG</td>\n      <td>Missing information on how to use it, but it i...</td>\n    </tr>\n    <tr>\n      <th>4</th>\n      <td>Home_and_Kitchen_5</td>\n      <td>5.0</td>\n      <td>CG</td>\n      <td>Very nice set. Good quality. We have had the s...</td>\n    </tr>\n  </tbody>\n</table>\n</div>"
     },
     "execution_count": 20,
     "metadata": {},
     "output_type": "execute_result"
    }
   ],
   "source": [
    "df = pd.read_csv('../../dataset/fake reviews dataset.csv')\n",
    "df.head()"
   ],
   "metadata": {
    "collapsed": false,
    "ExecuteTime": {
     "end_time": "2024-10-05T15:03:12.101395Z",
     "start_time": "2024-10-05T15:03:11.942274Z"
    }
   },
   "id": "cc68caa7550b3475",
   "execution_count": 20
  },
  {
   "cell_type": "code",
   "outputs": [
    {
     "data": {
      "text/plain": "       category  rating  label  text_\n0         False   False  False  False\n1         False   False  False  False\n2         False   False  False  False\n3         False   False  False  False\n4         False   False  False  False\n...         ...     ...    ...    ...\n40427     False   False  False  False\n40428     False   False  False  False\n40429     False   False  False  False\n40430     False   False  False  False\n40431     False   False  False  False\n\n[40432 rows x 4 columns]",
      "text/html": "<div>\n<style scoped>\n    .dataframe tbody tr th:only-of-type {\n        vertical-align: middle;\n    }\n\n    .dataframe tbody tr th {\n        vertical-align: top;\n    }\n\n    .dataframe thead th {\n        text-align: right;\n    }\n</style>\n<table border=\"1\" class=\"dataframe\">\n  <thead>\n    <tr style=\"text-align: right;\">\n      <th></th>\n      <th>category</th>\n      <th>rating</th>\n      <th>label</th>\n      <th>text_</th>\n    </tr>\n  </thead>\n  <tbody>\n    <tr>\n      <th>0</th>\n      <td>False</td>\n      <td>False</td>\n      <td>False</td>\n      <td>False</td>\n    </tr>\n    <tr>\n      <th>1</th>\n      <td>False</td>\n      <td>False</td>\n      <td>False</td>\n      <td>False</td>\n    </tr>\n    <tr>\n      <th>2</th>\n      <td>False</td>\n      <td>False</td>\n      <td>False</td>\n      <td>False</td>\n    </tr>\n    <tr>\n      <th>3</th>\n      <td>False</td>\n      <td>False</td>\n      <td>False</td>\n      <td>False</td>\n    </tr>\n    <tr>\n      <th>4</th>\n      <td>False</td>\n      <td>False</td>\n      <td>False</td>\n      <td>False</td>\n    </tr>\n    <tr>\n      <th>...</th>\n      <td>...</td>\n      <td>...</td>\n      <td>...</td>\n      <td>...</td>\n    </tr>\n    <tr>\n      <th>40427</th>\n      <td>False</td>\n      <td>False</td>\n      <td>False</td>\n      <td>False</td>\n    </tr>\n    <tr>\n      <th>40428</th>\n      <td>False</td>\n      <td>False</td>\n      <td>False</td>\n      <td>False</td>\n    </tr>\n    <tr>\n      <th>40429</th>\n      <td>False</td>\n      <td>False</td>\n      <td>False</td>\n      <td>False</td>\n    </tr>\n    <tr>\n      <th>40430</th>\n      <td>False</td>\n      <td>False</td>\n      <td>False</td>\n      <td>False</td>\n    </tr>\n    <tr>\n      <th>40431</th>\n      <td>False</td>\n      <td>False</td>\n      <td>False</td>\n      <td>False</td>\n    </tr>\n  </tbody>\n</table>\n<p>40432 rows × 4 columns</p>\n</div>"
     },
     "execution_count": 21,
     "metadata": {},
     "output_type": "execute_result"
    }
   ],
   "source": [
    "df.isnull()"
   ],
   "metadata": {
    "collapsed": false,
    "ExecuteTime": {
     "end_time": "2024-10-05T15:03:12.117959Z",
     "start_time": "2024-10-05T15:03:12.102443Z"
    }
   },
   "id": "9269d95ca4f1b65d",
   "execution_count": 21
  },
  {
   "cell_type": "code",
   "outputs": [
    {
     "data": {
      "text/plain": "             rating\ncount  40432.000000\nmean       4.256579\nstd        1.144354\nmin        1.000000\n25%        4.000000\n50%        5.000000\n75%        5.000000\nmax        5.000000",
      "text/html": "<div>\n<style scoped>\n    .dataframe tbody tr th:only-of-type {\n        vertical-align: middle;\n    }\n\n    .dataframe tbody tr th {\n        vertical-align: top;\n    }\n\n    .dataframe thead th {\n        text-align: right;\n    }\n</style>\n<table border=\"1\" class=\"dataframe\">\n  <thead>\n    <tr style=\"text-align: right;\">\n      <th></th>\n      <th>rating</th>\n    </tr>\n  </thead>\n  <tbody>\n    <tr>\n      <th>count</th>\n      <td>40432.000000</td>\n    </tr>\n    <tr>\n      <th>mean</th>\n      <td>4.256579</td>\n    </tr>\n    <tr>\n      <th>std</th>\n      <td>1.144354</td>\n    </tr>\n    <tr>\n      <th>min</th>\n      <td>1.000000</td>\n    </tr>\n    <tr>\n      <th>25%</th>\n      <td>4.000000</td>\n    </tr>\n    <tr>\n      <th>50%</th>\n      <td>5.000000</td>\n    </tr>\n    <tr>\n      <th>75%</th>\n      <td>5.000000</td>\n    </tr>\n    <tr>\n      <th>max</th>\n      <td>5.000000</td>\n    </tr>\n  </tbody>\n</table>\n</div>"
     },
     "execution_count": 22,
     "metadata": {},
     "output_type": "execute_result"
    }
   ],
   "source": [
    "df.describe()"
   ],
   "metadata": {
    "collapsed": false,
    "ExecuteTime": {
     "end_time": "2024-10-05T15:03:12.135792Z",
     "start_time": "2024-10-05T15:03:12.119972Z"
    }
   },
   "id": "cd77d0440657325b",
   "execution_count": 22
  },
  {
   "cell_type": "markdown",
   "source": [
    "clean_text(text) removes punctuation from the input text and\n",
    "splits the text into words, removes English stopwords, and then rejoins the words into a cleaned text string."
   ],
   "metadata": {
    "collapsed": false
   },
   "id": "eb92557b1bf4e30f"
  },
  {
   "cell_type": "code",
   "outputs": [
    {
     "data": {
      "text/plain": "('Love this!  Well made, sturdy, and very comfortable.  I love it!Very pretty',\n 'Love Well made sturdy comfortable I love Very pretty')"
     },
     "execution_count": 32,
     "metadata": {},
     "output_type": "execute_result"
    }
   ],
   "source": [
    "\n",
    "def preprocess(text):\n",
    "    return ' '.join([word for word in word_tokenize(text) if\n",
    "                     word not in stopwords.words('english') and not word.isdigit() and word not in string.punctuation])\n",
    "\n",
    "#apply clean text to the fisrt row of the dataset\n",
    "df['text_'][0], preprocess(df['text_'][0])"
   ],
   "metadata": {
    "collapsed": false,
    "ExecuteTime": {
     "end_time": "2024-10-05T15:32:41.040901Z",
     "start_time": "2024-10-05T15:32:40.979647Z"
    }
   },
   "id": "c9c9c853c162c9dc",
   "execution_count": 32
  },
  {
   "cell_type": "code",
   "outputs": [],
   "source": [
    "# Apply the preprocess function to all rows in the 'text_' column\n",
    "df['text_'][:10000] = df['text_'][:10000].apply(preprocess)\n"
   ],
   "metadata": {
    "collapsed": false,
    "ExecuteTime": {
     "end_time": "2024-10-05T15:48:37.064116Z",
     "start_time": "2024-10-05T15:33:32.547585Z"
    }
   },
   "id": "60811d3f36a94d00",
   "execution_count": 33
  },
  {
   "cell_type": "code",
   "outputs": [],
   "source": [
    "\n",
    "df['text_'][10001:20000] = df['text_'][10001:20000].apply(preprocess)"
   ],
   "metadata": {
    "collapsed": false,
    "ExecuteTime": {
     "end_time": "2024-10-05T16:30:43.522471Z",
     "start_time": "2024-10-05T16:22:43.172490Z"
    }
   },
   "id": "e355054216a1b1f8",
   "execution_count": 35
  },
  {
   "cell_type": "code",
   "outputs": [],
   "source": [
    "df['text_'][20001:30000] = df['text_'][20001:30000].apply(preprocess)"
   ],
   "metadata": {
    "collapsed": false,
    "ExecuteTime": {
     "end_time": "2024-10-05T16:48:08.990139Z",
     "start_time": "2024-10-05T16:41:00.225517Z"
    }
   },
   "id": "1e539d0b4d2ca862",
   "execution_count": 36
  },
  {
   "cell_type": "code",
   "outputs": [],
   "source": [
    "\n",
    "df['text_'][30001:40000] = df['text_'][30001:40000].apply(preprocess)"
   ],
   "metadata": {
    "collapsed": false,
    "ExecuteTime": {
     "end_time": "2024-10-05T17:10:51.276705Z",
     "start_time": "2024-10-05T17:03:34.357114Z"
    }
   },
   "id": "2e552b0f88a9ebad",
   "execution_count": 38
  },
  {
   "cell_type": "code",
   "outputs": [],
   "source": [
    "df['text_'][40001:40432] = df['text_'][40001:40432].apply(preprocess)"
   ],
   "metadata": {
    "collapsed": false,
    "ExecuteTime": {
     "end_time": "2024-10-05T17:47:01.475367Z",
     "start_time": "2024-10-05T17:44:51.351130Z"
    }
   },
   "id": "4be542e136a4fb66",
   "execution_count": 39
  },
  {
   "cell_type": "code",
   "outputs": [],
   "source": [
    "\n",
    "stemmer = PorterStemmer()\n",
    "def stem_words(text):\n",
    "    return ' '.join([stemmer.stem(word) for word in text.split()])\n",
    "df['text_'] = df['text_'].apply(lambda x: stem_words(x))"
   ],
   "metadata": {
    "collapsed": false,
    "ExecuteTime": {
     "end_time": "2024-10-05T17:49:31.813026Z",
     "start_time": "2024-10-05T17:49:17.931293Z"
    }
   },
   "id": "2bb92813f98330c6",
   "execution_count": 40
  },
  {
   "cell_type": "code",
   "outputs": [],
   "source": [
    "\n",
    "lemmatizer = WordNetLemmatizer()\n",
    "def lemmatize_words(text):\n",
    "    return ' '.join([lemmatizer.lemmatize(word) for word in text.split()])\n",
    "df[\"text_\"] = df[\"text_\"].apply(lambda text: lemmatize_words(text))"
   ],
   "metadata": {
    "collapsed": false,
    "ExecuteTime": {
     "end_time": "2024-10-05T17:53:09.267164Z",
     "start_time": "2024-10-05T17:53:02.870991Z"
    }
   },
   "id": "e7e515e58632474e",
   "execution_count": 41
  },
  {
   "cell_type": "code",
   "outputs": [
    {
     "data": {
      "text/plain": "0    love well made sturdi comfort i love veri pretti\n1      love great upgrad origin i 've mine coupl year\n2        thi pillow save back i love look feel pillow\n3               miss inform use great product price i\n4         veri nice set good qualiti we set two month\nName: text_, dtype: object"
     },
     "execution_count": 42,
     "metadata": {},
     "output_type": "execute_result"
    }
   ],
   "source": [
    "df['text_'].head()"
   ],
   "metadata": {
    "collapsed": false,
    "ExecuteTime": {
     "end_time": "2024-10-05T17:58:31.444474Z",
     "start_time": "2024-10-05T17:58:31.436427Z"
    }
   },
   "id": "29c2e8d8e8ea69e5",
   "execution_count": 42
  },
  {
   "cell_type": "code",
   "outputs": [],
   "source": [
    "df.to_csv('../../dataset/Preprocessed Dataset.csv')"
   ],
   "metadata": {
    "collapsed": false,
    "ExecuteTime": {
     "end_time": "2024-10-05T18:00:46.743516Z",
     "start_time": "2024-10-05T18:00:46.470885Z"
    }
   },
   "id": "efbcb4b4d8ae8d47",
   "execution_count": 45
  }
 ],
 "metadata": {
  "kernelspec": {
   "display_name": "Python 3",
   "language": "python",
   "name": "python3"
  },
  "language_info": {
   "codemirror_mode": {
    "name": "ipython",
    "version": 2
   },
   "file_extension": ".py",
   "mimetype": "text/x-python",
   "name": "python",
   "nbconvert_exporter": "python",
   "pygments_lexer": "ipython2",
   "version": "2.7.6"
  }
 },
 "nbformat": 4,
 "nbformat_minor": 5
}
